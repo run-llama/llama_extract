{
 "cells": [
  {
   "cell_type": "markdown",
   "metadata": {},
   "source": [
    "# Manually create a schema to extract data from files"
   ]
  },
  {
   "cell_type": "markdown",
   "metadata": {},
   "source": [
    "In this notebook, we will demonstrate how to manually create a schema and using it to extract structured data from invoice PDF files.\n",
    "\n",
    "The steps are:\n",
    "1. Create a schema using a valid JSON schema object.\n",
    "2. Extract structured data (i.e. JSONs) from invoice PDF files\n",
    "\n",
    "Additional Resources:\n",
    "- `LlamaExtract`: https://docs.cloud.llamaindex.ai/"
   ]
  },
  {
   "cell_type": "markdown",
   "metadata": {},
   "source": [
    "## Setup\n",
    "Install `llama-extract` client library:"
   ]
  },
  {
   "cell_type": "code",
   "execution_count": null,
   "metadata": {},
   "outputs": [],
   "source": [
    "%pip install llama-extract"
   ]
  },
  {
   "cell_type": "markdown",
   "metadata": {},
   "source": [
    "Bring your own LlamaCloud API key:"
   ]
  },
  {
   "cell_type": "code",
   "execution_count": null,
   "metadata": {},
   "outputs": [],
   "source": [
    "import os\n",
    "\n",
    "os.environ[\"LLAMA_CLOUD_API_KEY\"] = \"llx-...\""
   ]
  },
  {
   "cell_type": "markdown",
   "metadata": {},
   "source": [
    "## Create the schema\n",
    "First, let's create the schema using a valid JSON schema object with `LlamaExtract`."
   ]
  },
  {
   "cell_type": "code",
   "execution_count": null,
   "metadata": {},
   "outputs": [],
   "source": [
    "from llama_extract import LlamaExtract\n",
    "\n",
    "extractor = LlamaExtract()\n",
    "\n",
    "data_schema = {\n",
    "    \"type\": \"object\",\n",
    "    \"properties\": {\n",
    "        \"number\": {\"type\": \"string\"},\n",
    "        \"date\": {\"type\": \"string\"},\n",
    "        \"amount\": {\"type\": \"number\"},\n",
    "    },\n",
    "}\n",
    "\n",
    "extraction_schema = await extractor.acreate_schema(\"Test Schema\", data_schema)"
   ]
  },
  {
   "cell_type": "markdown",
   "metadata": {},
   "source": [
    "Let's preview the created schema:"
   ]
  },
  {
   "cell_type": "code",
   "execution_count": null,
   "metadata": {},
   "outputs": [
    {
     "name": "stdout",
     "output_type": "stream",
     "text": [
      "id='88ea0633-937b-42f1-a35d-7da19c2db74e' created_at=datetime.datetime(2024, 7, 24, 19, 48, 49, 968786, tzinfo=datetime.timezone.utc) updated_at=datetime.datetime(2024, 7, 24, 19, 48, 49, 968786, tzinfo=datetime.timezone.utc) name='Test Schema' project_id='b1be5ffd-3f90-4fd1-9742-ca7c0a30f6f7' data_schema={'type': 'object', 'properties': {'date': {'type': 'string'}, 'amount': {'type': 'number'}, 'number': {'type': 'string'}}}\n"
     ]
    }
   ],
   "source": [
    "print(extraction_schema)"
   ]
  },
  {
   "cell_type": "markdown",
   "metadata": {},
   "source": [
    "## Extract structured data\n",
    "Now with the schema, we can extract structured data (i.e. JSON) from the our invoices files."
   ]
  },
  {
   "cell_type": "code",
   "execution_count": null,
   "metadata": {},
   "outputs": [
    {
     "name": "stderr",
     "output_type": "stream",
     "text": [
      "Extracting files: 100%|██████████| 2/2 [00:06<00:00,  3.31s/it]\n"
     ]
    }
   ],
   "source": [
    "extractions = await extractor.aextract(\n",
    "    extraction_schema.id,\n",
    "    [\"./data/noisebridge_receipt.pdf\", \"./data/parallels_invoice.pdf\"],\n",
    ")"
   ]
  },
  {
   "cell_type": "markdown",
   "metadata": {},
   "source": [
    "Preview the extracted data:"
   ]
  },
  {
   "cell_type": "code",
   "execution_count": null,
   "metadata": {},
   "outputs": [
    {
     "name": "stdout",
     "output_type": "stream",
     "text": [
      "{'date': 'Jul 23, 2024', 'amount': '119.99', 'number': 'BKD-73649835575'}\n"
     ]
    }
   ],
   "source": [
    "print(extractions[0].data)"
   ]
  }
 ],
 "metadata": {
  "kernelspec": {
   "display_name": "llama-extract-tm5usU00-py3.11",
   "language": "python",
   "name": "python3"
  },
  "language_info": {
   "codemirror_mode": {
    "name": "ipython",
    "version": 3
   },
   "file_extension": ".py",
   "mimetype": "text/x-python",
   "name": "python",
   "nbconvert_exporter": "python",
   "pygments_lexer": "ipython3"
  }
 },
 "nbformat": 4,
 "nbformat_minor": 2
}
