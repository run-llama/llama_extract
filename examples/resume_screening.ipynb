{
 "cells": [
  {
   "cell_type": "markdown",
   "metadata": {},
   "source": [
    "# Extracting data from resumes\n",
    "\n",
    "Let us assume that we are running a hiring process for a company and we have received a list of resumes from candidates. We want to extract structured data from the resumes so that we can run a screening process and shortlist candidates. \n",
    "\n",
    "Take a look at one of the resumes in the `data/resumes` directory. "
   ]
  },
  {
   "cell_type": "code",
   "execution_count": null,
   "metadata": {},
   "outputs": [
    {
     "data": {
      "text/html": [
       "\n",
       "        <iframe\n",
       "            width=\"600\"\n",
       "            height=\"400\"\n",
       "            src=\"./data/resumes/ai_researcher.pdf\"\n",
       "            frameborder=\"0\"\n",
       "            allowfullscreen\n",
       "            \n",
       "        ></iframe>\n",
       "        "
      ],
      "text/plain": [
       "<IPython.lib.display.IFrame at 0x103a7e950>"
      ]
     },
     "execution_count": null,
     "metadata": {},
     "output_type": "execute_result"
    }
   ],
   "source": [
    "from IPython.display import IFrame\n",
    "\n",
    "IFrame(src=\"./data/resumes/ai_researcher.pdf\", width=600, height=400)"
   ]
  },
  {
   "cell_type": "markdown",
   "metadata": {},
   "source": [
    "You will notice that all the resumes have different layouts but contain common information like name, email, experience, education, etc. \n",
    "\n",
    "With LlamaExtract, we will show you how to:\n",
    "- *Define* a data schema to extract the information of interest. \n",
    "- *Iterate* over the data schema to generalize the schema for multiple resumes.\n",
    "- *Finalize* the schema and schedule extractions for multiple resumes.\n",
    "\n",
    "We will start by defining a `LlamaExtract` client which provides a Python interface to the LlamaExtract API. "
   ]
  },
  {
   "cell_type": "code",
   "execution_count": null,
   "metadata": {},
   "outputs": [],
   "source": [
    "from dotenv import load_dotenv\n",
    "from llama_extract import LlamaExtract\n",
    "\n",
    "\n",
    "# Load environment variables (put LLAMA_CLOUD_API_KEY in your .env file)\n",
    "load_dotenv(override=True)\n",
    "\n",
    "base_url = \"https://api.staging.llamaindex.ai\"  # Use default production url\n",
    "\n",
    "# Replace with your project id or remove the project_id argument to use the default project\n",
    "extractor = LlamaExtract(\n",
    "    base_url=\"https://api.staging.llamaindex.ai\",\n",
    "    project_id=\"a59127bb-7a43-4efe-9c62-1bb6cc87f0d9\",\n",
    ")"
   ]
  },
  {
   "cell_type": "markdown",
   "metadata": {},
   "source": [
    "### Defining the data schema\n",
    "\n",
    "Next, let us try to extract two fields from the resume: `name` and `email`. We can either use a Python dictionary structure to define the `data_schema` as a JSON or use a Pydantic model instead, for brevity and convenience. In either case, our output is guaranteed to validate against this schema."
   ]
  },
  {
   "cell_type": "code",
   "execution_count": null,
   "metadata": {},
   "outputs": [],
   "source": [
    "from pydantic import BaseModel, Field\n",
    "\n",
    "\n",
    "class Resume(BaseModel):\n",
    "    name: str = Field(description=\"The name of the candidate\")\n",
    "    email: str = Field(description=\"The email address of the candidate\")"
   ]
  },
  {
   "cell_type": "code",
   "execution_count": null,
   "metadata": {},
   "outputs": [
    {
     "name": "stdout",
     "output_type": "stream",
     "text": [
      "Agent not found, creating new agent\n"
     ]
    }
   ],
   "source": [
    "try:\n",
    "    extract_agent = extractor.get_agent(\"resume-screening\")\n",
    "except Exception:\n",
    "    print(\"Agent not found, creating new agent\")\n",
    "    extract_agent = extractor.create_agent(\"resume-screening\", Resume)"
   ]
  },
  {
   "cell_type": "code",
   "execution_count": null,
   "metadata": {},
   "outputs": [
    {
     "data": {
      "text/plain": [
       "[ExtractionAgent(id=2c185206-bff3-450e-9d78-1f7c3c8a6db7, name=resume-screening)]"
      ]
     },
     "execution_count": null,
     "metadata": {},
     "output_type": "execute_result"
    }
   ],
   "source": [
    "extractor.list_agents()"
   ]
  },
  {
   "cell_type": "code",
   "execution_count": null,
   "metadata": {},
   "outputs": [
    {
     "name": "stderr",
     "output_type": "stream",
     "text": [
      "Uploading files:   0%|          | 0/1 [00:00<?, ?it/s]"
     ]
    },
    {
     "name": "stderr",
     "output_type": "stream",
     "text": [
      "Uploading files: 100%|██████████| 1/1 [00:00<00:00,  1.19it/s]\n",
      "Creating extraction jobs: 100%|██████████| 1/1 [00:01<00:00,  1.16s/it]\n",
      "Extracting files: 100%|██████████| 1/1 [00:03<00:00,  3.13s/it]\n"
     ]
    },
    {
     "data": {
      "text/plain": [
       "{'name': 'Dr. Rachel Zhang', 'email': 'rachel.zhang@email.com'}"
      ]
     },
     "execution_count": null,
     "metadata": {},
     "output_type": "execute_result"
    }
   ],
   "source": [
    "resume = extract_agent.extract(\"./data/resumes/ai_researcher.pdf\")\n",
    "resume.data"
   ]
  },
  {
   "cell_type": "markdown",
   "metadata": {},
   "source": [
    "### Iterating over the data schema\n",
    "\n",
    "Now that we have created a data schema, let us add more fields to the schema. We will add `experience` and `education` fields to the schema. \n",
    "- We can create a new Pydantic model for each of these fields and represent `experience` and `education` as lists of these models. Doing this will allow us to extract multiple entities from the resume without having to pre-define how many experiences or education the candidate has. \n",
    "- We have added a `description` parameter to provide more context for extraction. We can use `description` to provide example inputs/outputs for the extraction. \n",
    "- Note that we have annotated the `start_date` and `end_date` fields with `Optional[str]` to indicate that these fields are optional. This is *important* because the schema will be used to extract data from multiple resumes and not all resumes will have the same format. A field must only be required if it is guaranteed to be present in all the resumes. \n"
   ]
  },
  {
   "cell_type": "code",
   "execution_count": null,
   "metadata": {},
   "outputs": [],
   "source": [
    "from typing import List, Optional\n",
    "\n",
    "\n",
    "class Education(BaseModel):\n",
    "    institution: str = Field(description=\"The institution of the candidate\")\n",
    "    degree: str = Field(description=\"The degree of the candidate\")\n",
    "    start_date: Optional[str] = Field(\n",
    "        default=None, description=\"The start date of the candidate's education\"\n",
    "    )\n",
    "    end_date: Optional[str] = Field(\n",
    "        default=None, description=\"The end date of the candidate's education\"\n",
    "    )\n",
    "\n",
    "\n",
    "class Experience(BaseModel):\n",
    "    company: str = Field(description=\"The name of the company\")\n",
    "    title: str = Field(description=\"The title of the candidate\")\n",
    "    description: Optional[str] = Field(\n",
    "        default=None, description=\"The description of the candidate's experience\"\n",
    "    )\n",
    "    start_date: Optional[str] = Field(\n",
    "        default=None, description=\"The start date of the candidate's experience\"\n",
    "    )\n",
    "    end_date: Optional[str] = Field(\n",
    "        default=None, description=\"The end date of the candidate's experience\"\n",
    "    )\n",
    "\n",
    "\n",
    "class Resume(BaseModel):\n",
    "    name: str = Field(description=\"The name of the candidate\")\n",
    "    email: str = Field(description=\"The email address of the candidate\")\n",
    "    links: List[str] = Field(\n",
    "        description=\"The links to the candidate's social media profiles\"\n",
    "    )\n",
    "    experience: List[Experience] = Field(description=\"The candidate's experience\")\n",
    "    education: List[Education] = Field(description=\"The candidate's education\")"
   ]
  },
  {
   "cell_type": "markdown",
   "metadata": {},
   "source": [
    "Next, we will update the `data_schema` for the `resume-screening` agent to use the new `Resume` model. "
   ]
  },
  {
   "cell_type": "code",
   "execution_count": null,
   "metadata": {},
   "outputs": [
    {
     "name": "stderr",
     "output_type": "stream",
     "text": [
      "Uploading files: 100%|██████████| 1/1 [00:00<00:00,  1.07it/s]\n",
      "Creating extraction jobs: 100%|██████████| 1/1 [00:04<00:00,  4.44s/it]\n",
      "Extracting files: 100%|██████████| 1/1 [00:06<00:00,  6.84s/it]\n"
     ]
    },
    {
     "data": {
      "text/plain": [
       "{'name': 'Dr. Rachel Zhang',\n",
       " 'email': 'rachel.zhang@email.com',\n",
       " 'links': ['linkedin.com/in/rachelzhang',\n",
       "  'github.com/rzhang-ai',\n",
       "  'scholar.google.com/rachelzhang'],\n",
       " 'education': [{'degree': 'Ph.D. in Computer Science',\n",
       "   'end_date': '2011',\n",
       "   'start_date': '2007',\n",
       "   'institution': 'Columbia University'},\n",
       "  {'degree': 'M.S. in Computer Science',\n",
       "   'end_date': '2007',\n",
       "   'start_date': '2005',\n",
       "   'institution': 'Stanford University'}],\n",
       " 'experience': [{'title': 'Senior Research Scientist',\n",
       "   'company': 'DeepMind',\n",
       "   'end_date': None,\n",
       "   'start_date': '2019',\n",
       "   'description': '- Lead researcher on large-scale multi-task learning systems, developing novel architectures that improve cross-task generalization by 40%\\n- Pioneered new approach to zero-shot learning using contrastive training, published in NeurIPS 2023\\n- Built and led team of 6 researchers working on foundational ML models\\n- Developed novel regularization techniques for large language models, reducing catastrophic forgetting by 35%'},\n",
       "  {'title': 'Research Scientist',\n",
       "   'company': 'Google Research',\n",
       "   'end_date': '2019',\n",
       "   'start_date': '2015',\n",
       "   'description': '- Developed probabilistic frameworks for robust ML, published in ICML 2018\\n- Created novel attention mechanisms for computer vision models, improving accuracy by 25%\\n- Led collaboration with Google Brain team on efficient training methods for transformer models\\n- Mentored 4 PhD interns and collaborated with academic institutions'},\n",
       "  {'title': 'Research Assistant Professor',\n",
       "   'company': 'Columbia University',\n",
       "   'end_date': '2015',\n",
       "   'start_date': '2011',\n",
       "   'description': '- Published seminal work on Bayesian optimization methods (cited 1000+ times)\\n- Taught graduate-level courses in Machine Learning and Statistical Learning Theory\\n- Supervised 5 PhD students and 3 MSc students\\n- Secured $500K in research grants for probabilistic ML research'}]}"
      ]
     },
     "execution_count": null,
     "metadata": {},
     "output_type": "execute_result"
    }
   ],
   "source": [
    "extract_agent.data_schema = Resume\n",
    "resume = extract_agent.extract(\"./data/resumes/ai_researcher.pdf\")\n",
    "resume.data"
   ]
  },
  {
   "cell_type": "markdown",
   "metadata": {},
   "source": [
    "This is a good start. Let us add a few more fields to the schema and re-run the extraction. "
   ]
  },
  {
   "cell_type": "code",
   "execution_count": null,
   "metadata": {},
   "outputs": [],
   "source": [
    "class TechnicalSkills(BaseModel):\n",
    "    programming_languages: List[str] = Field(\n",
    "        description=\"The programming languages the candidate is proficient in.\"\n",
    "    )\n",
    "    frameworks: List[str] = Field(\n",
    "        description=\"The tools/frameworks the candidate is proficient in, e.g. React, Django, PyTorch, etc.\"\n",
    "    )\n",
    "    skills: List[str] = Field(\n",
    "        description=\"Other general skills the candidate is proficient in, e.g. Data Engineering, Machine Learning, etc.\"\n",
    "    )\n",
    "\n",
    "\n",
    "class Resume(BaseModel):\n",
    "    name: str = Field(description=\"The name of the candidate\")\n",
    "    email: str = Field(description=\"The email address of the candidate\")\n",
    "    links: List[str] = Field(\n",
    "        description=\"The links to the candidate's social media profiles\"\n",
    "    )\n",
    "    experience: List[Experience] = Field(description=\"The candidate's experience\")\n",
    "    education: List[Education] = Field(description=\"The candidate's education\")\n",
    "    technical_skills: TechnicalSkills = Field(\n",
    "        description=\"The candidate's technical skills\"\n",
    "    )\n",
    "    key_accomplishments: str = Field(\n",
    "        description=\"Summarize the candidates highest achievements.\"\n",
    "    )"
   ]
  },
  {
   "cell_type": "code",
   "execution_count": null,
   "metadata": {},
   "outputs": [
    {
     "name": "stderr",
     "output_type": "stream",
     "text": [
      "Uploading files: 100%|██████████| 1/1 [00:00<00:00,  2.68it/s]\n",
      "Creating extraction jobs: 100%|██████████| 1/1 [00:03<00:00,  3.97s/it]\n",
      "Extracting files: 100%|██████████| 1/1 [00:14<00:00, 14.96s/it]\n"
     ]
    },
    {
     "data": {
      "text/plain": [
       "{'name': 'Dr. Rachel Zhang',\n",
       " 'email': 'rachel.zhang@email.com',\n",
       " 'links': ['linkedin.com/in/rachelzhang',\n",
       "  'github.com/rzhang-ai',\n",
       "  'scholar.google.com/rachelzhang'],\n",
       " 'education': [{'degree': 'Ph.D. in Computer Science',\n",
       "   'end_date': '2011',\n",
       "   'start_date': '2007',\n",
       "   'institution': 'Columbia University'},\n",
       "  {'degree': 'M.S. in Computer Science',\n",
       "   'end_date': '2007',\n",
       "   'start_date': '2005',\n",
       "   'institution': 'Stanford University'}],\n",
       " 'experience': [{'title': 'Senior Research Scientist',\n",
       "   'company': 'DeepMind',\n",
       "   'end_date': 'Present',\n",
       "   'start_date': '2019',\n",
       "   'description': '- Lead researcher on large-scale multi-task learning systems, developing novel architectures that improve cross-task generalization by 40%\\n- Pioneered new approach to zero-shot learning using contrastive training, published in NeurIPS 2023\\n- Built and led team of 6 researchers working on foundational ML models\\n- Developed novel regularization techniques for large language models, reducing catastrophic forgetting by 35%'},\n",
       "  {'title': 'Research Scientist',\n",
       "   'company': 'Google Research',\n",
       "   'end_date': '2019',\n",
       "   'start_date': '2015',\n",
       "   'description': '- Developed probabilistic frameworks for robust ML, published in ICML 2018\\n- Created novel attention mechanisms for computer vision models, improving accuracy by 25%\\n- Led collaboration with Google Brain team on efficient training methods for transformer models\\n- Mentored 4 PhD interns and collaborated with academic institutions'},\n",
       "  {'title': 'Research Assistant Professor',\n",
       "   'company': 'Columbia University',\n",
       "   'end_date': '2015',\n",
       "   'start_date': '2011',\n",
       "   'description': '- Published seminal work on Bayesian optimization methods (cited 1000+ times)\\n- Taught graduate-level courses in Machine Learning and Statistical Learning Theory\\n- Supervised 5 PhD students and 3 MSc students\\n- Secured $500K in research grants for probabilistic ML research'}],\n",
       " 'technical_skills': {'skills': ['Deep Learning',\n",
       "   'Reinforcement Learning',\n",
       "   'Probabilistic Models',\n",
       "   'Multi-Task Learning',\n",
       "   'Zero-Shot Learning',\n",
       "   'Neural Architecture Search'],\n",
       "  'frameworks': ['PyTorch', 'TensorFlow', 'JAX', 'Ray'],\n",
       "  'programming_languages': ['Python', 'C++', 'Julia', 'CUDA']},\n",
       " 'key_accomplishments': 'AI researcher with 12+ years of experience spanning classical machine learning, deep learning, and probabilistic modeling. Led groundbreaking research in reinforcement learning, generative models, and multi-task learning. Published 25+ papers in top-tier conferences (NeurIPS, ICML, ICLR). Strong track record of transitioning theoretical advances into practical applications in both academic and industrial settings.'}"
      ]
     },
     "execution_count": null,
     "metadata": {},
     "output_type": "execute_result"
    }
   ],
   "source": [
    "extract_agent.data_schema = Resume\n",
    "resume = extract_agent.extract(\"./data/resumes/ai_researcher.pdf\")\n",
    "resume.data"
   ]
  },
  {
   "cell_type": "markdown",
   "metadata": {},
   "source": [
    "### Finalizing the schema\n",
    "\n",
    "This is great! We have extracted a lot of key information from the resume that is well-typed and can be used downstream for further processing. Until now, this data is ephemeral and will be lost if we close the session. Let us save the state of our extraction and use it to extract data from multiple resumes. "
   ]
  },
  {
   "cell_type": "code",
   "execution_count": null,
   "metadata": {},
   "outputs": [],
   "source": [
    "extract_agent.save()"
   ]
  },
  {
   "cell_type": "code",
   "execution_count": null,
   "metadata": {},
   "outputs": [
    {
     "data": {
      "text/plain": [
       "{'type': 'object',\n",
       " '$defs': {'Education': {'type': 'object',\n",
       "   'title': 'Education',\n",
       "   'required': ['institution', 'degree', 'start_date', 'end_date'],\n",
       "   'properties': {'degree': {'type': 'string',\n",
       "     'title': 'Degree',\n",
       "     'description': 'The degree of the candidate'},\n",
       "    'end_date': {'anyOf': [{'type': 'string'}, {'type': 'null'}],\n",
       "     'title': 'End Date',\n",
       "     'description': \"The end date of the candidate's education\"},\n",
       "    'start_date': {'anyOf': [{'type': 'string'}, {'type': 'null'}],\n",
       "     'title': 'Start Date',\n",
       "     'description': \"The start date of the candidate's education\"},\n",
       "    'institution': {'type': 'string',\n",
       "     'title': 'Institution',\n",
       "     'description': 'The institution of the candidate'}},\n",
       "   'additionalProperties': False},\n",
       "  'Experience': {'type': 'object',\n",
       "   'title': 'Experience',\n",
       "   'required': ['company', 'title', 'description', 'start_date', 'end_date'],\n",
       "   'properties': {'title': {'type': 'string',\n",
       "     'title': 'Title',\n",
       "     'description': 'The title of the candidate'},\n",
       "    'company': {'type': 'string',\n",
       "     'title': 'Company',\n",
       "     'description': 'The name of the company'},\n",
       "    'end_date': {'anyOf': [{'type': 'string'}, {'type': 'null'}],\n",
       "     'title': 'End Date',\n",
       "     'description': \"The end date of the candidate's experience\"},\n",
       "    'start_date': {'anyOf': [{'type': 'string'}, {'type': 'null'}],\n",
       "     'title': 'Start Date',\n",
       "     'description': \"The start date of the candidate's experience\"},\n",
       "    'description': {'anyOf': [{'type': 'string'}, {'type': 'null'}],\n",
       "     'title': 'Description',\n",
       "     'description': \"The description of the candidate's experience\"}},\n",
       "   'additionalProperties': False},\n",
       "  'TechnicalSkills': {'type': 'object',\n",
       "   'title': 'TechnicalSkills',\n",
       "   'required': ['programming_languages', 'frameworks', 'skills'],\n",
       "   'properties': {'skills': {'type': 'array',\n",
       "     'items': {'type': 'string'},\n",
       "     'title': 'Skills',\n",
       "     'description': 'Other general skills the candidate is proficient in, e.g. Data Engineering, Machine Learning, etc.'},\n",
       "    'frameworks': {'type': 'array',\n",
       "     'items': {'type': 'string'},\n",
       "     'title': 'Frameworks',\n",
       "     'description': 'The tools/frameworks the candidate is proficient in, e.g. React, Django, PyTorch, etc.'},\n",
       "    'programming_languages': {'type': 'array',\n",
       "     'items': {'type': 'string'},\n",
       "     'title': 'Programming Languages',\n",
       "     'description': 'The programming languages the candidate is proficient in.'}},\n",
       "   'additionalProperties': False}},\n",
       " 'title': 'Resume',\n",
       " 'required': ['name',\n",
       "  'email',\n",
       "  'links',\n",
       "  'experience',\n",
       "  'education',\n",
       "  'technical_skills',\n",
       "  'key_accomplishments'],\n",
       " 'properties': {'name': {'type': 'string',\n",
       "   'title': 'Name',\n",
       "   'description': 'The name of the candidate'},\n",
       "  'email': {'type': 'string',\n",
       "   'title': 'Email',\n",
       "   'description': 'The email address of the candidate'},\n",
       "  'links': {'type': 'array',\n",
       "   'items': {'type': 'string'},\n",
       "   'title': 'Links',\n",
       "   'description': \"The links to the candidate's social media profiles\"},\n",
       "  'education': {'type': 'array',\n",
       "   'items': {'$ref': '#/$defs/Education'},\n",
       "   'title': 'Education',\n",
       "   'description': \"The candidate's education\"},\n",
       "  'experience': {'type': 'array',\n",
       "   'items': {'$ref': '#/$defs/Experience'},\n",
       "   'title': 'Experience',\n",
       "   'description': \"The candidate's experience\"},\n",
       "  'technical_skills': {'type': 'object',\n",
       "   'title': 'TechnicalSkills',\n",
       "   'required': ['programming_languages', 'frameworks', 'skills'],\n",
       "   'properties': {'skills': {'type': 'array',\n",
       "     'items': {'type': 'string'},\n",
       "     'title': 'Skills',\n",
       "     'description': 'Other general skills the candidate is proficient in, e.g. Data Engineering, Machine Learning, etc.'},\n",
       "    'frameworks': {'type': 'array',\n",
       "     'items': {'type': 'string'},\n",
       "     'title': 'Frameworks',\n",
       "     'description': 'The tools/frameworks the candidate is proficient in, e.g. React, Django, PyTorch, etc.'},\n",
       "    'programming_languages': {'type': 'array',\n",
       "     'items': {'type': 'string'},\n",
       "     'title': 'Programming Languages',\n",
       "     'description': 'The programming languages the candidate is proficient in.'}},\n",
       "   'description': \"The candidate's technical skills\",\n",
       "   'additionalProperties': False},\n",
       "  'key_accomplishments': {'type': 'string',\n",
       "   'title': 'Key Accomplishments',\n",
       "   'description': 'Summarize the candidates highest achievements.'}},\n",
       " 'additionalProperties': False}"
      ]
     },
     "execution_count": null,
     "metadata": {},
     "output_type": "execute_result"
    }
   ],
   "source": [
    "agent = extractor.get_agent(\"resume-screening\")\n",
    "agent.data_schema"
   ]
  },
  {
   "cell_type": "markdown",
   "metadata": {},
   "source": [
    "#### Queueing extractions"
   ]
  },
  {
   "cell_type": "code",
   "execution_count": null,
   "metadata": {},
   "outputs": [
    {
     "name": "stderr",
     "output_type": "stream",
     "text": [
      "Uploading files: 100%|██████████| 3/3 [00:00<00:00,  3.24it/s]\n",
      "Creating extraction jobs: 100%|██████████| 3/3 [00:04<00:00,  1.38s/it]\n"
     ]
    }
   ],
   "source": [
    "import os\n",
    "\n",
    "# All resumes in the data/resumes directory\n",
    "resumes = []\n",
    "\n",
    "with os.scandir(\"./data/resumes\") as entries:\n",
    "    for entry in entries:\n",
    "        if entry.is_file():\n",
    "            resumes.append(entry.path)\n",
    "\n",
    "jobs = await extract_agent.queue_extraction(resumes)"
   ]
  },
  {
   "cell_type": "markdown",
   "metadata": {},
   "source": [
    "Since we have used a queue to schedule extractions, we can now wait for the extractions to complete. \n",
    "\n",
    "We can use the `list_extraction_runs` method to get the status of the extractions for any `job_id`. \n"
   ]
  },
  {
   "cell_type": "code",
   "execution_count": null,
   "metadata": {},
   "outputs": [
    {
     "data": {
      "text/plain": [
       "[ExtractJob(id='c6710e72-602f-4851-8670-d0b202aa2179', extraction_agent=ExtractAgent(id='4a814c1a-249e-418a-aa4c-85d5c47baee5', name='resume-screening', project_id='a59127bb-7a43-4efe-9c62-1bb6cc87f0d9', data_schema={'type': 'object', '$defs': {'Education': {'type': 'object', 'title': 'Education', 'required': ['degree', 'end_date', 'start_date', 'institution'], 'properties': {'degree': {'type': 'string', 'title': 'Degree', 'description': 'The degree of the candidate'}, 'end_date': {'anyOf': [{'type': 'string'}, {'type': 'null'}], 'title': 'End Date', 'description': \"The end date of the candidate's education\"}, 'start_date': {'anyOf': [{'type': 'string'}, {'type': 'null'}], 'title': 'Start Date', 'description': \"The start date of the candidate's education\"}, 'institution': {'type': 'string', 'title': 'Institution', 'description': 'The institution of the candidate'}}, 'additionalProperties': False}, 'Experience': {'type': 'object', 'title': 'Experience', 'required': ['title', 'company', 'end_date', 'start_date', 'description'], 'properties': {'title': {'type': 'string', 'title': 'Title', 'description': 'The title of the candidate'}, 'company': {'type': 'string', 'title': 'Company', 'description': 'The name of the company'}, 'end_date': {'anyOf': [{'type': 'string'}, {'type': 'null'}], 'title': 'End Date', 'description': \"The end date of the candidate's experience\"}, 'start_date': {'anyOf': [{'type': 'string'}, {'type': 'null'}], 'title': 'Start Date', 'description': \"The start date of the candidate's experience\"}, 'description': {'anyOf': [{'type': 'string'}, {'type': 'null'}], 'title': 'Description', 'description': \"The description of the candidate's experience\"}}, 'additionalProperties': False}, 'TechnicalSkills': {'type': 'object', 'title': 'TechnicalSkills', 'required': ['skills', 'frameworks', 'programming_languages'], 'properties': {'skills': {'type': 'array', 'items': {'type': 'string'}, 'title': 'Skills', 'description': 'Other general skills the candidate is proficient in, e.g. Data Engineering, Machine Learning, etc.'}, 'frameworks': {'type': 'array', 'items': {'type': 'string'}, 'title': 'Frameworks', 'description': 'The tools/frameworks the candidate is proficient in, e.g. React, Django, PyTorch, etc.'}, 'programming_languages': {'type': 'array', 'items': {'type': 'string'}, 'title': 'Programming Languages', 'description': 'The programming languages the candidate is proficient in.'}}, 'additionalProperties': False}}, 'title': 'Resume', 'required': ['name', 'email', 'links', 'education', 'experience', 'technical_skills', 'key_accomplishments'], 'properties': {'name': {'type': 'string', 'title': 'Name', 'description': 'The name of the candidate'}, 'email': {'type': 'string', 'title': 'Email', 'description': 'The email address of the candidate'}, 'links': {'type': 'array', 'items': {'type': 'string'}, 'title': 'Links', 'description': \"The links to the candidate's social media profiles\"}, 'education': {'type': 'array', 'items': {'$ref': '#/$defs/Education'}, 'title': 'Education', 'description': \"The candidate's education\"}, 'experience': {'type': 'array', 'items': {'$ref': '#/$defs/Experience'}, 'title': 'Experience', 'description': \"The candidate's experience\"}, 'technical_skills': {'type': 'object', 'title': 'TechnicalSkills', 'required': ['skills', 'frameworks', 'programming_languages'], 'properties': {'skills': {'type': 'array', 'items': {'type': 'string'}, 'title': 'Skills', 'description': 'Other general skills the candidate is proficient in, e.g. Data Engineering, Machine Learning, etc.'}, 'frameworks': {'type': 'array', 'items': {'type': 'string'}, 'title': 'Frameworks', 'description': 'The tools/frameworks the candidate is proficient in, e.g. React, Django, PyTorch, etc.'}, 'programming_languages': {'type': 'array', 'items': {'type': 'string'}, 'title': 'Programming Languages', 'description': 'The programming languages the candidate is proficient in.'}}, 'description': \"The candidate's technical skills\", 'additionalProperties': False}, 'key_accomplishments': {'type': 'string', 'title': 'Key Accomplishments', 'description': 'Summarize the candidates highest achievements.'}}, 'additionalProperties': False}, config=ExtractConfig(extraction_mode=<ExtractMode.PER_DOC: 'PER_DOC'>, handle_missing=False, system_prompt=None), created_at=datetime.datetime(2025, 1, 13, 0, 6, 54, 466989, tzinfo=datetime.timezone.utc), updated_at=datetime.datetime(2025, 1, 13, 0, 59, 40, 789563, tzinfo=datetime.timezone.utc)), status=<StatusEnum.PENDING: 'PENDING'>, error=None, file=File(id='ef48a0cb-a1b9-4f87-a018-c7291756ef7e', created_at=datetime.datetime(2025, 1, 13, 0, 7, 52, 808345, tzinfo=datetime.timezone.utc), updated_at=datetime.datetime(2025, 1, 13, 1, 7, 25, 897381, tzinfo=datetime.timezone.utc), name='ai_researcher.pdf', external_file_id='ai_researcher.pdf', file_size=357035, file_type='pdf', project_id='a59127bb-7a43-4efe-9c62-1bb6cc87f0d9', last_modified_at=datetime.datetime(2025, 1, 13, 1, 7, 26, tzinfo=datetime.timezone.utc), resource_info={'file_size': 357035, 'last_modified_at': '2025-01-13T01:07:26'}, permission_info=None, data_source_id=None)),\n",
       " ExtractJob(id='3ed0194e-3f6c-4dbf-810f-e9016ed2d69e', extraction_agent=ExtractAgent(id='4a814c1a-249e-418a-aa4c-85d5c47baee5', name='resume-screening', project_id='a59127bb-7a43-4efe-9c62-1bb6cc87f0d9', data_schema={'type': 'object', '$defs': {'Education': {'type': 'object', 'title': 'Education', 'required': ['degree', 'end_date', 'start_date', 'institution'], 'properties': {'degree': {'type': 'string', 'title': 'Degree', 'description': 'The degree of the candidate'}, 'end_date': {'anyOf': [{'type': 'string'}, {'type': 'null'}], 'title': 'End Date', 'description': \"The end date of the candidate's education\"}, 'start_date': {'anyOf': [{'type': 'string'}, {'type': 'null'}], 'title': 'Start Date', 'description': \"The start date of the candidate's education\"}, 'institution': {'type': 'string', 'title': 'Institution', 'description': 'The institution of the candidate'}}, 'additionalProperties': False}, 'Experience': {'type': 'object', 'title': 'Experience', 'required': ['title', 'company', 'end_date', 'start_date', 'description'], 'properties': {'title': {'type': 'string', 'title': 'Title', 'description': 'The title of the candidate'}, 'company': {'type': 'string', 'title': 'Company', 'description': 'The name of the company'}, 'end_date': {'anyOf': [{'type': 'string'}, {'type': 'null'}], 'title': 'End Date', 'description': \"The end date of the candidate's experience\"}, 'start_date': {'anyOf': [{'type': 'string'}, {'type': 'null'}], 'title': 'Start Date', 'description': \"The start date of the candidate's experience\"}, 'description': {'anyOf': [{'type': 'string'}, {'type': 'null'}], 'title': 'Description', 'description': \"The description of the candidate's experience\"}}, 'additionalProperties': False}, 'TechnicalSkills': {'type': 'object', 'title': 'TechnicalSkills', 'required': ['skills', 'frameworks', 'programming_languages'], 'properties': {'skills': {'type': 'array', 'items': {'type': 'string'}, 'title': 'Skills', 'description': 'Other general skills the candidate is proficient in, e.g. Data Engineering, Machine Learning, etc.'}, 'frameworks': {'type': 'array', 'items': {'type': 'string'}, 'title': 'Frameworks', 'description': 'The tools/frameworks the candidate is proficient in, e.g. React, Django, PyTorch, etc.'}, 'programming_languages': {'type': 'array', 'items': {'type': 'string'}, 'title': 'Programming Languages', 'description': 'The programming languages the candidate is proficient in.'}}, 'additionalProperties': False}}, 'title': 'Resume', 'required': ['name', 'email', 'links', 'education', 'experience', 'technical_skills', 'key_accomplishments'], 'properties': {'name': {'type': 'string', 'title': 'Name', 'description': 'The name of the candidate'}, 'email': {'type': 'string', 'title': 'Email', 'description': 'The email address of the candidate'}, 'links': {'type': 'array', 'items': {'type': 'string'}, 'title': 'Links', 'description': \"The links to the candidate's social media profiles\"}, 'education': {'type': 'array', 'items': {'$ref': '#/$defs/Education'}, 'title': 'Education', 'description': \"The candidate's education\"}, 'experience': {'type': 'array', 'items': {'$ref': '#/$defs/Experience'}, 'title': 'Experience', 'description': \"The candidate's experience\"}, 'technical_skills': {'type': 'object', 'title': 'TechnicalSkills', 'required': ['skills', 'frameworks', 'programming_languages'], 'properties': {'skills': {'type': 'array', 'items': {'type': 'string'}, 'title': 'Skills', 'description': 'Other general skills the candidate is proficient in, e.g. Data Engineering, Machine Learning, etc.'}, 'frameworks': {'type': 'array', 'items': {'type': 'string'}, 'title': 'Frameworks', 'description': 'The tools/frameworks the candidate is proficient in, e.g. React, Django, PyTorch, etc.'}, 'programming_languages': {'type': 'array', 'items': {'type': 'string'}, 'title': 'Programming Languages', 'description': 'The programming languages the candidate is proficient in.'}}, 'description': \"The candidate's technical skills\", 'additionalProperties': False}, 'key_accomplishments': {'type': 'string', 'title': 'Key Accomplishments', 'description': 'Summarize the candidates highest achievements.'}}, 'additionalProperties': False}, config=ExtractConfig(extraction_mode=<ExtractMode.PER_DOC: 'PER_DOC'>, handle_missing=False, system_prompt=None), created_at=datetime.datetime(2025, 1, 13, 0, 6, 54, 466989, tzinfo=datetime.timezone.utc), updated_at=datetime.datetime(2025, 1, 13, 0, 59, 40, 789563, tzinfo=datetime.timezone.utc)), status=<StatusEnum.PENDING: 'PENDING'>, error=None, file=File(id='b3b57d9c-4285-4b5d-8cd9-0169321ea061', created_at=datetime.datetime(2025, 1, 13, 1, 7, 26, 66837, tzinfo=datetime.timezone.utc), updated_at=datetime.datetime(2025, 1, 13, 1, 7, 26, 66837, tzinfo=datetime.timezone.utc), name='ml_engineer.pdf', external_file_id='ml_engineer.pdf', file_size=826075, file_type='pdf', project_id='a59127bb-7a43-4efe-9c62-1bb6cc87f0d9', last_modified_at=datetime.datetime(2025, 1, 13, 1, 7, 26, tzinfo=datetime.timezone.utc), resource_info={'file_size': 826075, 'last_modified_at': '2025-01-13T01:07:26'}, permission_info=None, data_source_id=None)),\n",
       " ExtractJob(id='4aa579b1-2f7b-4256-a605-979b36515dd8', extraction_agent=ExtractAgent(id='4a814c1a-249e-418a-aa4c-85d5c47baee5', name='resume-screening', project_id='a59127bb-7a43-4efe-9c62-1bb6cc87f0d9', data_schema={'type': 'object', '$defs': {'Education': {'type': 'object', 'title': 'Education', 'required': ['degree', 'end_date', 'start_date', 'institution'], 'properties': {'degree': {'type': 'string', 'title': 'Degree', 'description': 'The degree of the candidate'}, 'end_date': {'anyOf': [{'type': 'string'}, {'type': 'null'}], 'title': 'End Date', 'description': \"The end date of the candidate's education\"}, 'start_date': {'anyOf': [{'type': 'string'}, {'type': 'null'}], 'title': 'Start Date', 'description': \"The start date of the candidate's education\"}, 'institution': {'type': 'string', 'title': 'Institution', 'description': 'The institution of the candidate'}}, 'additionalProperties': False}, 'Experience': {'type': 'object', 'title': 'Experience', 'required': ['title', 'company', 'end_date', 'start_date', 'description'], 'properties': {'title': {'type': 'string', 'title': 'Title', 'description': 'The title of the candidate'}, 'company': {'type': 'string', 'title': 'Company', 'description': 'The name of the company'}, 'end_date': {'anyOf': [{'type': 'string'}, {'type': 'null'}], 'title': 'End Date', 'description': \"The end date of the candidate's experience\"}, 'start_date': {'anyOf': [{'type': 'string'}, {'type': 'null'}], 'title': 'Start Date', 'description': \"The start date of the candidate's experience\"}, 'description': {'anyOf': [{'type': 'string'}, {'type': 'null'}], 'title': 'Description', 'description': \"The description of the candidate's experience\"}}, 'additionalProperties': False}, 'TechnicalSkills': {'type': 'object', 'title': 'TechnicalSkills', 'required': ['skills', 'frameworks', 'programming_languages'], 'properties': {'skills': {'type': 'array', 'items': {'type': 'string'}, 'title': 'Skills', 'description': 'Other general skills the candidate is proficient in, e.g. Data Engineering, Machine Learning, etc.'}, 'frameworks': {'type': 'array', 'items': {'type': 'string'}, 'title': 'Frameworks', 'description': 'The tools/frameworks the candidate is proficient in, e.g. React, Django, PyTorch, etc.'}, 'programming_languages': {'type': 'array', 'items': {'type': 'string'}, 'title': 'Programming Languages', 'description': 'The programming languages the candidate is proficient in.'}}, 'additionalProperties': False}}, 'title': 'Resume', 'required': ['name', 'email', 'links', 'education', 'experience', 'technical_skills', 'key_accomplishments'], 'properties': {'name': {'type': 'string', 'title': 'Name', 'description': 'The name of the candidate'}, 'email': {'type': 'string', 'title': 'Email', 'description': 'The email address of the candidate'}, 'links': {'type': 'array', 'items': {'type': 'string'}, 'title': 'Links', 'description': \"The links to the candidate's social media profiles\"}, 'education': {'type': 'array', 'items': {'$ref': '#/$defs/Education'}, 'title': 'Education', 'description': \"The candidate's education\"}, 'experience': {'type': 'array', 'items': {'$ref': '#/$defs/Experience'}, 'title': 'Experience', 'description': \"The candidate's experience\"}, 'technical_skills': {'type': 'object', 'title': 'TechnicalSkills', 'required': ['skills', 'frameworks', 'programming_languages'], 'properties': {'skills': {'type': 'array', 'items': {'type': 'string'}, 'title': 'Skills', 'description': 'Other general skills the candidate is proficient in, e.g. Data Engineering, Machine Learning, etc.'}, 'frameworks': {'type': 'array', 'items': {'type': 'string'}, 'title': 'Frameworks', 'description': 'The tools/frameworks the candidate is proficient in, e.g. React, Django, PyTorch, etc.'}, 'programming_languages': {'type': 'array', 'items': {'type': 'string'}, 'title': 'Programming Languages', 'description': 'The programming languages the candidate is proficient in.'}}, 'description': \"The candidate's technical skills\", 'additionalProperties': False}, 'key_accomplishments': {'type': 'string', 'title': 'Key Accomplishments', 'description': 'Summarize the candidates highest achievements.'}}, 'additionalProperties': False}, config=ExtractConfig(extraction_mode=<ExtractMode.PER_DOC: 'PER_DOC'>, handle_missing=False, system_prompt=None), created_at=datetime.datetime(2025, 1, 13, 0, 6, 54, 466989, tzinfo=datetime.timezone.utc), updated_at=datetime.datetime(2025, 1, 13, 0, 59, 40, 789563, tzinfo=datetime.timezone.utc)), status=<StatusEnum.PENDING: 'PENDING'>, error=None, file=File(id='7410cdb4-bf00-40f1-8d24-bd8ab6ecd200', created_at=datetime.datetime(2025, 1, 13, 1, 7, 25, 838663, tzinfo=datetime.timezone.utc), updated_at=datetime.datetime(2025, 1, 13, 1, 7, 25, 838663, tzinfo=datetime.timezone.utc), name='software_architect.pdf', external_file_id='software_architect.pdf', file_size=195224, file_type='pdf', project_id='a59127bb-7a43-4efe-9c62-1bb6cc87f0d9', last_modified_at=datetime.datetime(2025, 1, 13, 1, 7, 25, tzinfo=datetime.timezone.utc), resource_info={'file_size': 195224, 'last_modified_at': '2025-01-13T01:07:25'}, permission_info=None, data_source_id=None))]"
      ]
     },
     "execution_count": null,
     "metadata": {},
     "output_type": "execute_result"
    }
   ],
   "source": [
    "jobs"
   ]
  },
  {
   "cell_type": "code",
   "execution_count": null,
   "metadata": {},
   "outputs": [
    {
     "data": {
      "text/plain": [
       "[ExtractRun(id='9838eb75-fce7-41ee-8f32-4260e3dc0ea7', created_at=datetime.datetime(2025, 1, 13, 1, 55, 46, 948715, tzinfo=datetime.timezone.utc), updated_at=datetime.datetime(2025, 1, 13, 1, 56, 2, 552293, tzinfo=datetime.timezone.utc), extraction_agent_id='2c185206-bff3-450e-9d78-1f7c3c8a6db7', data_schema={'type': 'object', '$defs': {'Education': {'type': 'object', 'title': 'Education', 'required': ['institution', 'degree', 'start_date', 'end_date'], 'properties': {'degree': {'type': 'string', 'title': 'Degree', 'description': 'The degree of the candidate'}, 'end_date': {'anyOf': [{'type': 'string'}, {'type': 'null'}], 'title': 'End Date', 'description': \"The end date of the candidate's education\"}, 'start_date': {'anyOf': [{'type': 'string'}, {'type': 'null'}], 'title': 'Start Date', 'description': \"The start date of the candidate's education\"}, 'institution': {'type': 'string', 'title': 'Institution', 'description': 'The institution of the candidate'}}, 'additionalProperties': False}, 'Experience': {'type': 'object', 'title': 'Experience', 'required': ['company', 'title', 'description', 'start_date', 'end_date'], 'properties': {'title': {'type': 'string', 'title': 'Title', 'description': 'The title of the candidate'}, 'company': {'type': 'string', 'title': 'Company', 'description': 'The name of the company'}, 'end_date': {'anyOf': [{'type': 'string'}, {'type': 'null'}], 'title': 'End Date', 'description': \"The end date of the candidate's experience\"}, 'start_date': {'anyOf': [{'type': 'string'}, {'type': 'null'}], 'title': 'Start Date', 'description': \"The start date of the candidate's experience\"}, 'description': {'anyOf': [{'type': 'string'}, {'type': 'null'}], 'title': 'Description', 'description': \"The description of the candidate's experience\"}}, 'additionalProperties': False}, 'TechnicalSkills': {'type': 'object', 'title': 'TechnicalSkills', 'required': ['programming_languages', 'frameworks', 'skills'], 'properties': {'skills': {'type': 'array', 'items': {'type': 'string'}, 'title': 'Skills', 'description': 'Other general skills the candidate is proficient in, e.g. Data Engineering, Machine Learning, etc.'}, 'frameworks': {'type': 'array', 'items': {'type': 'string'}, 'title': 'Frameworks', 'description': 'The tools/frameworks the candidate is proficient in, e.g. React, Django, PyTorch, etc.'}, 'programming_languages': {'type': 'array', 'items': {'type': 'string'}, 'title': 'Programming Languages', 'description': 'The programming languages the candidate is proficient in.'}}, 'additionalProperties': False}}, 'title': 'Resume', 'required': ['name', 'email', 'links', 'experience', 'education', 'technical_skills', 'key_accomplishments'], 'properties': {'name': {'type': 'string', 'title': 'Name', 'description': 'The name of the candidate'}, 'email': {'type': 'string', 'title': 'Email', 'description': 'The email address of the candidate'}, 'links': {'type': 'array', 'items': {'type': 'string'}, 'title': 'Links', 'description': \"The links to the candidate's social media profiles\"}, 'education': {'type': 'array', 'items': {'$ref': '#/$defs/Education'}, 'title': 'Education', 'description': \"The candidate's education\"}, 'experience': {'type': 'array', 'items': {'$ref': '#/$defs/Experience'}, 'title': 'Experience', 'description': \"The candidate's experience\"}, 'technical_skills': {'type': 'object', 'title': 'TechnicalSkills', 'required': ['programming_languages', 'frameworks', 'skills'], 'properties': {'skills': {'type': 'array', 'items': {'type': 'string'}, 'title': 'Skills', 'description': 'Other general skills the candidate is proficient in, e.g. Data Engineering, Machine Learning, etc.'}, 'frameworks': {'type': 'array', 'items': {'type': 'string'}, 'title': 'Frameworks', 'description': 'The tools/frameworks the candidate is proficient in, e.g. React, Django, PyTorch, etc.'}, 'programming_languages': {'type': 'array', 'items': {'type': 'string'}, 'title': 'Programming Languages', 'description': 'The programming languages the candidate is proficient in.'}}, 'description': \"The candidate's technical skills\", 'additionalProperties': False}, 'key_accomplishments': {'type': 'string', 'title': 'Key Accomplishments', 'description': 'Summarize the candidates highest achievements.'}}, 'additionalProperties': False}, config=ExtractConfig(extraction_mode=<ExtractMode.PER_DOC: 'PER_DOC'>, handle_missing=False, system_prompt=None), file=File(id='ef48a0cb-a1b9-4f87-a018-c7291756ef7e', created_at=datetime.datetime(2025, 1, 13, 0, 7, 52, 808345, tzinfo=datetime.timezone.utc), updated_at=datetime.datetime(2025, 1, 13, 1, 55, 46, 529309, tzinfo=datetime.timezone.utc), name='ai_researcher.pdf', external_file_id='ai_researcher.pdf', file_size=357035, file_type='pdf', project_id='a59127bb-7a43-4efe-9c62-1bb6cc87f0d9', last_modified_at=datetime.datetime(2025, 1, 13, 1, 55, 46, tzinfo=datetime.timezone.utc), resource_info={'file_size': 357035, 'last_modified_at': '2025-01-13T01:55:46'}, permission_info=None, data_source_id=None), status=<ExtractState.SUCCESS: 'SUCCESS'>, error=None, job_id='f3a4b5b3-3d8d-47dd-8d6c-b83e328c594b', data={'name': 'Dr. Rachel Zhang', 'email': 'rachel.zhang@email.com', 'links': ['linkedin.com/in/rachelzhang', 'github.com/rzhang-ai', 'scholar.google.com/rachelzhang'], 'education': [{'degree': 'Ph.D. in Computer Science', 'end_date': '2011', 'start_date': '2007', 'institution': 'Columbia University'}, {'degree': 'M.S. in Computer Science', 'end_date': '2007', 'start_date': '2005', 'institution': 'Stanford University'}], 'experience': [{'title': 'Senior Research Scientist', 'company': 'DeepMind', 'end_date': 'Present', 'start_date': '2019', 'description': '- Lead researcher on large-scale multi-task learning systems, developing novel architectures that improve cross-task generalization by 40%\\n- Pioneered new approach to zero-shot learning using contrastive training, published in NeurIPS 2023\\n- Built and led team of 6 researchers working on foundational ML models\\n- Developed novel regularization techniques for large language models, reducing catastrophic forgetting by 35%'}, {'title': 'Research Scientist', 'company': 'Google Research', 'end_date': '2019', 'start_date': '2015', 'description': '- Developed probabilistic frameworks for robust ML, published in ICML 2018\\n- Created novel attention mechanisms for computer vision models, improving accuracy by 25%\\n- Led collaboration with Google Brain team on efficient training methods for transformer models\\n- Mentored 4 PhD interns and collaborated with academic institutions'}, {'title': 'Research Assistant Professor', 'company': 'Columbia University', 'end_date': '2015', 'start_date': '2011', 'description': '- Published seminal work on Bayesian optimization methods (cited 1000+ times)\\n- Taught graduate-level courses in Machine Learning and Statistical Learning Theory\\n- Supervised 5 PhD students and 3 MSc students\\n- Secured $500K in research grants for probabilistic ML research'}], 'technical_skills': {'skills': ['Deep Learning', 'Reinforcement Learning', 'Probabilistic Models', 'Multi-Task Learning', 'Zero-Shot Learning', 'Neural Architecture Search'], 'frameworks': ['PyTorch', 'TensorFlow', 'JAX', 'Ray'], 'programming_languages': ['Python', 'C++', 'Julia', 'CUDA']}, 'key_accomplishments': 'AI researcher with 12+ years of experience spanning classical machine learning, deep learning, and probabilistic modeling. Led groundbreaking research in reinforcement learning, generative models, and multi-task learning. Published 25+ papers in top-tier conferences (NeurIPS, ICML, ICLR). Strong track record of transitioning theoretical advances into practical applications in both academic and industrial settings.'}, extraction_metadata={'errors': []})]"
      ]
     },
     "execution_count": null,
     "metadata": {},
     "output_type": "execute_result"
    }
   ],
   "source": [
    "extract_agent.list_extraction_runs(job_id=jobs[0].id)"
   ]
  },
  {
   "cell_type": "markdown",
   "metadata": {},
   "source": [
    "#### Retrieving results\n",
    "\n",
    "Let us now retrieve the results of the extractions. If the status of the extraction is `SUCCESS`, we can retrieve the data from the `data` field. In case there are errors (status = `ERROR`), we can retrieve the error message from the `error` field. \n"
   ]
  },
  {
   "cell_type": "code",
   "execution_count": null,
   "metadata": {},
   "outputs": [],
   "source": [
    "results = []\n",
    "for job in jobs:\n",
    "    extract_run = extract_agent.list_extraction_runs(job_id=job.id)[0]\n",
    "    if extract_run.status == \"SUCCESS\":\n",
    "        results.append(extract_run.data)\n",
    "    else:\n",
    "        print(f\"Extraction status for job {job.id}: {extract_run.status}\")"
   ]
  },
  {
   "cell_type": "code",
   "execution_count": null,
   "metadata": {},
   "outputs": [
    {
     "data": {
      "text/plain": [
       "{'name': 'Dr. Rachel Zhang',\n",
       " 'email': 'rachel.zhang@email.com',\n",
       " 'links': ['linkedin.com/in/rachelzhang',\n",
       "  'github.com/rzhang-ai',\n",
       "  'scholar.google.com/rachelzhang'],\n",
       " 'education': [{'degree': 'Ph.D. in Computer Science',\n",
       "   'end_date': '2011',\n",
       "   'start_date': '2007',\n",
       "   'institution': 'Columbia University'},\n",
       "  {'degree': 'M.S. in Computer Science',\n",
       "   'end_date': '2007',\n",
       "   'start_date': '2005',\n",
       "   'institution': 'Stanford University'}],\n",
       " 'experience': [{'title': 'Senior Research Scientist',\n",
       "   'company': 'DeepMind',\n",
       "   'end_date': 'Present',\n",
       "   'start_date': '2019',\n",
       "   'description': '- Lead researcher on large-scale multi-task learning systems, developing novel architectures that improve cross-task generalization by 40%\\n- Pioneered new approach to zero-shot learning using contrastive training, published in NeurIPS 2023\\n- Built and led team of 6 researchers working on foundational ML models\\n- Developed novel regularization techniques for large language models, reducing catastrophic forgetting by 35%'},\n",
       "  {'title': 'Research Scientist',\n",
       "   'company': 'Google Research',\n",
       "   'end_date': '2019',\n",
       "   'start_date': '2015',\n",
       "   'description': '- Developed probabilistic frameworks for robust ML, published in ICML 2018\\n- Created novel attention mechanisms for computer vision models, improving accuracy by 25%\\n- Led collaboration with Google Brain team on efficient training methods for transformer models\\n- Mentored 4 PhD interns and collaborated with academic institutions'},\n",
       "  {'title': 'Research Assistant Professor',\n",
       "   'company': 'Columbia University',\n",
       "   'end_date': '2015',\n",
       "   'start_date': '2011',\n",
       "   'description': '- Published seminal work on Bayesian optimization methods (cited 1000+ times)\\n- Taught graduate-level courses in Machine Learning and Statistical Learning Theory\\n- Supervised 5 PhD students and 3 MSc students\\n- Secured $500K in research grants for probabilistic ML research'}],\n",
       " 'technical_skills': {'skills': ['Deep Learning',\n",
       "   'Reinforcement Learning',\n",
       "   'Probabilistic Models',\n",
       "   'Multi-Task Learning',\n",
       "   'Zero-Shot Learning',\n",
       "   'Neural Architecture Search'],\n",
       "  'frameworks': ['PyTorch', 'TensorFlow', 'JAX', 'Ray'],\n",
       "  'programming_languages': ['Python', 'C++', 'Julia', 'CUDA']},\n",
       " 'key_accomplishments': 'AI researcher with 12+ years of experience spanning classical machine learning, deep learning, and probabilistic modeling. Led groundbreaking research in reinforcement learning, generative models, and multi-task learning. Published 25+ papers in top-tier conferences (NeurIPS, ICML, ICLR). Strong track record of transitioning theoretical advances into practical applications in both academic and industrial settings.'}"
      ]
     },
     "execution_count": null,
     "metadata": {},
     "output_type": "execute_result"
    }
   ],
   "source": [
    "results[0]"
   ]
  },
  {
   "cell_type": "code",
   "execution_count": null,
   "metadata": {},
   "outputs": [
    {
     "data": {
      "text/plain": [
       "{'name': 'Alex Park',\n",
       " 'email': 'alex.park@email.com',\n",
       " 'links': ['linkedin.com/in/alexpark'],\n",
       " 'education': [{'degree': 'M.S. Computer Science, Focus in Machine Learning',\n",
       "   'end_date': '2019',\n",
       "   'start_date': None,\n",
       "   'institution': 'University of California, Berkeley'},\n",
       "  {'degree': 'B.S. Computer Science',\n",
       "   'end_date': '2017',\n",
       "   'start_date': None,\n",
       "   'institution': 'University of Washington'}],\n",
       " 'experience': [{'title': 'Senior Machine Learning Engineer',\n",
       "   'company': 'SearchTech AI',\n",
       "   'end_date': None,\n",
       "   'start_date': '2022',\n",
       "   'description': '- Led development of next-generation learning-to-rank system using BERT-based architectures, improving search relevance by 24% (NDCG@10)\\n- Architected and deployed real-time personalization system processing 10M+ daily queries, increasing CTR by 15%\\n- Built automated A/B testing pipeline for ML experiments, reducing testing cycle time by 40%\\n- Mentored team of 3 ML engineers and contributed to ML hiring and interview processes'},\n",
       "  {'title': 'Machine Learning Engineer',\n",
       "   'company': 'E-commerce Corp',\n",
       "   'end_date': '2022',\n",
       "   'start_date': '2019',\n",
       "   'description': '- Developed semantic search system using transformer models and approximate nearest neighbors, reducing null search results by 35%\\n- Implemented query understanding pipeline with named entity recognition and intent classification\\n- Created automated feature engineering pipeline for 100+ behavioral and contextual signals\\n- Reduced model training time by 60% through distributed training implementation on Kubernetes'},\n",
       "  {'title': 'Software Engineer',\n",
       "   'company': 'Tech Solutions Inc',\n",
       "   'end_date': '2019',\n",
       "   'start_date': '2017',\n",
       "   'description': '- Built data pipelines and APIs for ML model serving using Python, Apache Spark, and Elasticsearch\\n- Implemented basic text classification and clustering algorithms for document categorization'}],\n",
       " 'technical_skills': {'skills': ['Learning-to-Rank',\n",
       "   'BERT',\n",
       "   'Word2Vec',\n",
       "   'FastAI',\n",
       "   'Vector Search',\n",
       "   'BM25',\n",
       "   'FAISS'],\n",
       "  'frameworks': ['PyTorch',\n",
       "   'TensorFlow',\n",
       "   'Scikit-learn',\n",
       "   'Elasticsearch',\n",
       "   'Solr',\n",
       "   'Lucene',\n",
       "   'Docker',\n",
       "   'Kubernetes',\n",
       "   'Airflow',\n",
       "   'MLflow',\n",
       "   'Git'],\n",
       "  'programming_languages': ['Python',\n",
       "   'SQL',\n",
       "   'Java',\n",
       "   'Scala',\n",
       "   'Shell Scripting']},\n",
       " 'key_accomplishments': 'Machine Learning Engineer with 5 years of experience building and deploying large-scale search and relevance systems. Specialized in developing personalized search algorithms, learning-to-rank models, and recommendation systems. Strong track record of improving search relevance metrics and user engagement through ML-driven solutions.'}"
      ]
     },
     "execution_count": null,
     "metadata": {},
     "output_type": "execute_result"
    }
   ],
   "source": [
    "results[1]"
   ]
  },
  {
   "cell_type": "code",
   "execution_count": null,
   "metadata": {},
   "outputs": [
    {
     "data": {
      "text/plain": [
       "{'name': 'Sarah Chen',\n",
       " 'email': 'sarah.chen@email.com',\n",
       " 'links': [],\n",
       " 'education': [{'degree': 'Master of Science in Computer Science',\n",
       "   'end_date': '2013',\n",
       "   'start_date': None,\n",
       "   'institution': 'Stanford University'},\n",
       "  {'degree': 'Bachelor of Science in Computer Engineering',\n",
       "   'end_date': '2011',\n",
       "   'start_date': None,\n",
       "   'institution': 'University of California, Berkeley'}],\n",
       " 'experience': [{'title': 'Senior Software Architect',\n",
       "   'company': 'TechCorp Solutions',\n",
       "   'end_date': 'Present',\n",
       "   'start_date': '2020',\n",
       "   'description': 'Led architectural design and implementation of a cloud-native platform serving 2M+ users\\nEstablished architectural guidelines and best practices adopted across 12 development teams\\nReduced system latency by 40% through implementation of event-driven architecture\\nMentored 15+ senior developers in cloud-native development practices'},\n",
       "  {'title': 'Lead Software Engineer',\n",
       "   'company': 'DataFlow Systems',\n",
       "   'end_date': '2020',\n",
       "   'start_date': '2016',\n",
       "   'description': 'Architected and led development of distributed data processing platform handling 5TB daily\\nDesigned microservices architecture reducing deployment time by 65%\\nLed migration of legacy monolith to cloud-native architecture\\nManaged team of 8 engineers across 3 international locations'},\n",
       "  {'title': 'Senior Software Engineer',\n",
       "   'company': 'InnovateTech',\n",
       "   'end_date': '2016',\n",
       "   'start_date': '2013',\n",
       "   'description': 'Developed high-performance trading platform processing 100K transactions per second\\nImplemented real-time analytics engine reducing processing latency by 75%\\nLed adoption of container orchestration reducing deployment costs by 35%'}],\n",
       " 'technical_skills': {'skills': ['Microservices',\n",
       "   'Event-Driven Architecture',\n",
       "   'Domain-Driven Design',\n",
       "   'REST APIs',\n",
       "   'AWS (Advanced)',\n",
       "   'Azure',\n",
       "   'Google Cloud Platform'],\n",
       "  'frameworks': [],\n",
       "  'programming_languages': ['Java', 'Python', 'Go', 'JavaScript/TypeScript']},\n",
       " 'key_accomplishments': ''}"
      ]
     },
     "execution_count": null,
     "metadata": {},
     "output_type": "execute_result"
    }
   ],
   "source": [
    "results[2]"
   ]
  },
  {
   "cell_type": "markdown",
   "metadata": {},
   "source": [
    "Congratulations! You now have an agent that can extract structured data from resumes. \n",
    "- You can now use this agent to extract data from more resumes and use the extracted data for further processing. \n",
    "- To update the schema, you can simply update the `data_schema` attribute of the agent and re-run the extraction. \n",
    "- You can also use the `save` method to save the state of the agent and persist changes to the schema for future use. \n",
    "\n"
   ]
  }
 ],
 "metadata": {
  "kernelspec": {
   "display_name": "Python 3 (ipykernel)",
   "language": "python",
   "name": "python3"
  },
  "language_info": {
   "codemirror_mode": {
    "name": "ipython",
    "version": 3
   },
   "file_extension": ".py",
   "mimetype": "text/x-python",
   "name": "python",
   "nbconvert_exporter": "python",
   "pygments_lexer": "ipython3"
  }
 },
 "nbformat": 4,
 "nbformat_minor": 4
}
