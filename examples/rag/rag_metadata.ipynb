{
 "cells": [
  {
   "cell_type": "markdown",
   "id": "f6a96911-1bb5-4106-815f-c422e4da2557",
   "metadata": {},
   "source": [
    "# Building a RAG Pipeline with Metadata Extraction\n",
    "\n",
    "<a href=\"https://colab.research.google.com/github/run-llama/llama_extract/blob/main/examples/rag/rag_metadata.ipynb\" target=\"_parent\"><img src=\"https://colab.research.google.com/assets/colab-badge.svg\" alt=\"Open In Colab\"/></a>\n",
    "\n",
    "This cookbook shows you how to build an e2e RAG pipeline with automatic metadata extraction to increase retrieval/synthesis on top of unstructured text data. The core tools we use are LlamaIndex, LlamaExtract, and LlamaParse."
   ]
  },
  {
   "cell_type": "code",
   "execution_count": null,
   "id": "16310f58-9dfe-4ccd-bdcd-0da2c2628341",
   "metadata": {},
   "outputs": [],
   "source": [
    "!pip install llama-extract llama-parse llama-index\n",
    "!pip install llama-index-llms-openai llama-index-embeddings-openai"
   ]
  },
  {
   "cell_type": "markdown",
   "id": "6d4c2deb-53e7-4e4a-b870-d93af208d17c",
   "metadata": {},
   "source": [
    "## Setup\n",
    "\n",
    "Create a [LlamaCloud account](https://cloud.llamaindex.ai/) if you haven't already done so. Setup the LlamaCloud API Key here."
   ]
  },
  {
   "cell_type": "code",
   "execution_count": null,
   "id": "5ed9a368-c17d-4c1f-9266-60d8e4ecac5d",
   "metadata": {},
   "outputs": [],
   "source": [
    "import os\n",
    "\n",
    "os.environ[\"LLAMA_CLOUD_API_KEY\"] = \"llx-...\""
   ]
  },
  {
   "cell_type": "markdown",
   "id": "1940bd1f-92ac-4b27-8231-07cdfc8d7857",
   "metadata": {},
   "source": [
    "#### Load Data"
   ]
  },
  {
   "cell_type": "code",
   "execution_count": null,
   "id": "dbb782f4-bc76-459a-9dfa-273fbc241a67",
   "metadata": {},
   "outputs": [],
   "source": [
    "from pathlib import Path\n",
    "\n",
    "folder = \"../data/resumes\"\n",
    "files = [\"12780508.pdf\", \"14224370.pdf\", \"19545827.pdf\"]\n",
    "full_files = [str(Path(folder) / f) for f in files]"
   ]
  },
  {
   "cell_type": "markdown",
   "id": "b1516b88-772d-4817-a214-4fcc27875570",
   "metadata": {},
   "source": [
    "## Load Documents and attach Metadata\n",
    "\n",
    "We extract the metadata from each document and attach it on top of the parsed text.\n",
    "\n",
    "There are two options for defining the schema:\n",
    "1. **Use a pre-defined schema**: We use a pre-defined `ResumeMetadata` class to extract metadata values into. This is the most reliable way to generate metadata.\n",
    "2. **Infer metadata using LlamaExtract**: We can use LlamaExtract's schema inference capabilities to infer a metadata schema from an existing set of documents.\n",
    "\n",
    "**NOTE**: If you are using (2), you need to make sure you edit the schema afterwards to make it concise and non-nested. LlamaExtract's schema inference is currently in beta and may extract complicated schemas from existing documents. Simple, concise metadata typically works much better for RAG setups! "
   ]
  },
  {
   "cell_type": "code",
   "execution_count": null,
   "id": "b4cbc3e7-522f-449d-9a77-d3bb155cc3dc",
   "metadata": {},
   "outputs": [],
   "source": [
    "from llama_extract import LlamaExtract\n",
    "\n",
    "SCHEMA_NAME = \"TEST_SCHEMA_2\"\n",
    "extractor = LlamaExtract()"
   ]
  },
  {
   "cell_type": "markdown",
   "id": "74d3396b-ec21-4617-8fad-ab379176c225",
   "metadata": {},
   "source": [
    "### Option 1: Define the Schema Manually"
   ]
  },
  {
   "cell_type": "code",
   "execution_count": null,
   "id": "4042d405-5269-4788-9999-a20f07ab13f1",
   "metadata": {},
   "outputs": [],
   "source": [
    "from pydantic import BaseModel, Field\n",
    "\n",
    "\n",
    "class ResumeMetadata(BaseModel):\n",
    "    \"\"\"Resume metadata.\"\"\"\n",
    "\n",
    "    years_of_experience: int = Field(\n",
    "        ..., description=\"Number of years of work experience.\"\n",
    "    )\n",
    "    highest_degree: str = Field(\n",
    "        ...,\n",
    "        description=\"Highest degree earned (options: High School, Bachelor's, Master's, Doctoral, Professional\",\n",
    "    )\n",
    "    professional_summary: str = Field(\n",
    "        ..., description=\"A general summary of the candidate's experience\"\n",
    "    )"
   ]
  },
  {
   "cell_type": "code",
   "execution_count": null,
   "id": "93fcd07a-9827-47dc-b987-f322da90bf9f",
   "metadata": {},
   "outputs": [
    {
     "data": {
      "text/plain": [
       "{'description': 'Resume metadata.',\n",
       " 'properties': {'years_of_experience': {'description': 'Number of years of work experience.',\n",
       "   'title': 'Years Of Experience',\n",
       "   'type': 'integer'},\n",
       "  'highest_degree': {'description': \"Highest degree earned (options: High School, Bachelor's, Master's, Doctoral, Professional\",\n",
       "   'title': 'Highest Degree',\n",
       "   'type': 'string'},\n",
       "  'professional_summary': {'description': \"A general summary of the candidate's experience\",\n",
       "   'title': 'Professional Summary',\n",
       "   'type': 'string'}},\n",
       " 'required': ['years_of_experience', 'highest_degree', 'professional_summary'],\n",
       " 'title': 'ResumeMetadata',\n",
       " 'type': 'object'}"
      ]
     },
     "execution_count": null,
     "metadata": {},
     "output_type": "execute_result"
    }
   ],
   "source": [
    "ResumeMetadata.schema()"
   ]
  },
  {
   "cell_type": "code",
   "execution_count": null,
   "id": "3f26d9ed-53a8-4a15-bc71-1f807216cc2b",
   "metadata": {},
   "outputs": [],
   "source": [
    "extraction_schema = await extractor.acreate_schema(\n",
    "    \"TEST_SCHEMA_3\", ResumeMetadata.schema()\n",
    ")"
   ]
  },
  {
   "cell_type": "markdown",
   "id": "ba5007aa-a451-4a38-94c8-519bcb70745e",
   "metadata": {},
   "source": [
    "### Option 2: Schema Inference\n",
    "\n",
    "We first use LlamaExtract to infer the schema from a subset of these files.\n",
    "\n",
    "Make sure you specify a schema name - this will be visible in the UI! "
   ]
  },
  {
   "cell_type": "code",
   "execution_count": null,
   "id": "2794910f-8140-49cc-ad9e-b14057c80375",
   "metadata": {},
   "outputs": [],
   "source": [
    "extraction_schema = await extractor.ainfer_schema(SCHEMA_NAME, [full_files[0]])"
   ]
  },
  {
   "cell_type": "code",
   "execution_count": null,
   "id": "31bcceec-2536-4ab3-8d79-7ad2a9947336",
   "metadata": {},
   "outputs": [
    {
     "data": {
      "text/plain": [
       "{'type': 'object',\n",
       " 'properties': {'Skills': {'type': 'array', 'items': {'type': 'string'}},\n",
       "  'Education': {'type': 'object',\n",
       "   'properties': {'degree': {'type': 'string'},\n",
       "    'institution': {'type': 'string'},\n",
       "    'fieldOfStudy': {'type': 'string'},\n",
       "    'graduationDate': {'type': 'string'}}},\n",
       "  'Supervision': {'type': 'object',\n",
       "   'properties': {'teamSize': {'type': 'integer'}}},\n",
       "  'WorkHistory': {'type': 'array',\n",
       "   'items': {'type': 'object',\n",
       "    'properties': {'endDate': {'type': 'string'},\n",
       "     'jobTitle': {'type': 'string'},\n",
       "     'location': {'type': 'string'},\n",
       "     'startDate': {'type': 'string'},\n",
       "     'companyName': {'type': 'string'},\n",
       "     'responsibilities': {'type': 'array', 'items': {'type': 'string'}}}}},\n",
       "  'Accomplishments': {'type': 'array', 'items': {'type': 'string'}},\n",
       "  'AccountingSupport': {'type': 'object',\n",
       "   'properties': {'hours': {'type': 'integer'}, 'tasks': {'type': 'string'}}},\n",
       "  'ProfessionalSummary': {'type': 'string'},\n",
       "  'FinancialServiceRepresentative': {'type': 'object',\n",
       "   'properties': {'hours': {'type': 'integer'}, 'tasks': {'type': 'string'}}}}}"
      ]
     },
     "execution_count": null,
     "metadata": {},
     "output_type": "execute_result"
    }
   ],
   "source": [
    "extraction_schema.data_schema"
   ]
  },
  {
   "cell_type": "markdown",
   "id": "ea56699f-a3b2-4923-87bc-874685580947",
   "metadata": {},
   "source": [
    "#### Adjust the Schema\n",
    "\n",
    "Make any modifications to the schema as necessary. (**note**: This may depend on the output of your specific extraction)"
   ]
  },
  {
   "cell_type": "code",
   "execution_count": null,
   "id": "0270c28e-31e8-4500-80f4-0a53d3cd37de",
   "metadata": {},
   "outputs": [],
   "source": [
    "new_schema = extraction_schema.data_schema.copy()\n",
    "del new_schema[\"properties\"][\"AccountingSupport\"]\n",
    "del new_schema[\"properties\"][\"FinancialServiceRepresentative\"]\n",
    "\n",
    "# TODO: make further modifications yourself to make sure the extracted metadata is flat/concises"
   ]
  },
  {
   "cell_type": "code",
   "execution_count": null,
   "id": "b554eebe-fbf6-4071-ae31-a0fd30839e01",
   "metadata": {},
   "outputs": [
    {
     "data": {
      "text/plain": [
       "{'type': 'object',\n",
       " 'properties': {'Skills': {'type': 'array', 'items': {'type': 'string'}},\n",
       "  'Education': {'type': 'object',\n",
       "   'properties': {'degree': {'type': 'string'},\n",
       "    'institution': {'type': 'string'},\n",
       "    'fieldOfStudy': {'type': 'string'},\n",
       "    'graduationDate': {'type': 'string'}}},\n",
       "  'Supervision': {'type': 'object',\n",
       "   'properties': {'teamSize': {'type': 'integer'}}},\n",
       "  'WorkHistory': {'type': 'array',\n",
       "   'items': {'type': 'object',\n",
       "    'properties': {'endDate': {'type': 'string'},\n",
       "     'jobTitle': {'type': 'string'},\n",
       "     'location': {'type': 'string'},\n",
       "     'startDate': {'type': 'string'},\n",
       "     'companyName': {'type': 'string'},\n",
       "     'responsibilities': {'type': 'array', 'items': {'type': 'string'}}}}},\n",
       "  'Accomplishments': {'type': 'array', 'items': {'type': 'string'}},\n",
       "  'ProfessionalSummary': {'type': 'string'}}}"
      ]
     },
     "execution_count": null,
     "metadata": {},
     "output_type": "execute_result"
    }
   ],
   "source": [
    "new_schema"
   ]
  },
  {
   "cell_type": "code",
   "execution_count": null,
   "id": "a6de62eb-ca88-4453-8b5c-3e0182b9e457",
   "metadata": {},
   "outputs": [],
   "source": [
    "update_response = await extractor.aupdate_schema(extraction_schema.id, new_schema)"
   ]
  },
  {
   "cell_type": "markdown",
   "id": "bf4a037e-9d46-4a35-b0a9-cdfda4ec1e7d",
   "metadata": {},
   "source": [
    "### Run Extraction\n",
    "\n",
    "We now run extraction for each document, and maintain a list of the JSON dictionaries."
   ]
  },
  {
   "cell_type": "code",
   "execution_count": null,
   "id": "125408a8-6722-49b8-a992-21127e3180c9",
   "metadata": {},
   "outputs": [
    {
     "name": "stderr",
     "output_type": "stream",
     "text": [
      "Extracting files: 100%|███████████████████████████████████████████████████████████████████████████████████████████████████████████████████████████████████████████████████████████████| 3/3 [00:04<00:00,  1.41s/it]\n"
     ]
    }
   ],
   "source": [
    "extraction_results = await extractor.aextract(extraction_schema.id, full_files)"
   ]
  },
  {
   "cell_type": "code",
   "execution_count": null,
   "id": "75eeae65-65c1-43cb-bb8c-d919b52a8f1e",
   "metadata": {},
   "outputs": [
    {
     "data": {
      "text/plain": [
       "[ExtractionResult(id='c339f6cf-4a8b-4705-b9ca-74c4c8946803', created_at=datetime.datetime(2024, 7, 24, 22, 14, 28, 731534, tzinfo=datetime.timezone.utc), updated_at=datetime.datetime(2024, 7, 24, 22, 14, 28, 731534, tzinfo=datetime.timezone.utc), schema_id='446278bf-ba61-4e2c-bfcb-37645e86126b', data={'highest_degree': \"Bachelor's\", 'years_of_experience': '2', 'professional_summary': 'Experienced financial service representative with a background in accounting support, customer service, and team supervision. Skilled in maintaining financial records, processing accounts payable, and ensuring compliance with procedural standards.'}, file=File(id='857ee650-0177-45d3-a39c-edf769deb86d', created_at=datetime.datetime(2024, 7, 24, 21, 47, 29, 573597, tzinfo=datetime.timezone.utc), updated_at=datetime.datetime(2024, 7, 24, 21, 47, 29, 573597, tzinfo=datetime.timezone.utc), name='12780508.pdf', file_size=25458, file_type='pdf', project_id='41711594-88c8-4ddf-b5bc-9c7a20725158', last_modified_at=datetime.datetime(2024, 7, 24, 22, 14, 28, tzinfo=datetime.timezone.utc), resource_info={'file_size': '25458', 'last_modified_at': '2024-07-24T22:14:28'}, data_source_id=None)),\n",
       " ExtractionResult(id='ed65d641-e879-4ef4-8821-9e63d5a1ceb8', created_at=datetime.datetime(2024, 7, 24, 22, 14, 28, 668037, tzinfo=datetime.timezone.utc), updated_at=datetime.datetime(2024, 7, 24, 22, 14, 28, 668037, tzinfo=datetime.timezone.utc), schema_id='446278bf-ba61-4e2c-bfcb-37645e86126b', data={'highest_degree': \"Bachelor's\", 'years_of_experience': '10', 'professional_summary': 'Degreed accountant with more than 10 years of diversified accounting experience seeking accounting position at a well-established company in Houston.'}, file=File(id='e89fb129-6858-4e8f-9a42-8cfb1b07bdfc', created_at=datetime.datetime(2024, 7, 24, 21, 48, 43, 839717, tzinfo=datetime.timezone.utc), updated_at=datetime.datetime(2024, 7, 24, 21, 48, 43, 839717, tzinfo=datetime.timezone.utc), name='14224370.pdf', file_size=19460, file_type='pdf', project_id='41711594-88c8-4ddf-b5bc-9c7a20725158', last_modified_at=datetime.datetime(2024, 7, 24, 22, 14, 28, tzinfo=datetime.timezone.utc), resource_info={'file_size': '19460', 'last_modified_at': '2024-07-24T22:14:28'}, data_source_id=None)),\n",
       " ExtractionResult(id='c2a21cb2-2dd5-4100-ad70-15f09d691151', created_at=datetime.datetime(2024, 7, 24, 22, 14, 28, 453878, tzinfo=datetime.timezone.utc), updated_at=datetime.datetime(2024, 7, 24, 22, 14, 28, 453878, tzinfo=datetime.timezone.utc), schema_id='446278bf-ba61-4e2c-bfcb-37645e86126b', data={'highest_degree': \"Bachelor's\", 'years_of_experience': '0', 'professional_summary': 'Bachelor of Arts in Economics from Marshall University with a strong background in accounting and various skills including sales, inventory, payroll, and customer service.'}, file=File(id='705481bb-e904-4918-b212-85e34f0bf610', created_at=datetime.datetime(2024, 7, 24, 21, 48, 43, 836068, tzinfo=datetime.timezone.utc), updated_at=datetime.datetime(2024, 7, 24, 21, 48, 43, 836068, tzinfo=datetime.timezone.utc), name='19545827.pdf', file_size=24293, file_type='pdf', project_id='41711594-88c8-4ddf-b5bc-9c7a20725158', last_modified_at=datetime.datetime(2024, 7, 24, 22, 14, 27, tzinfo=datetime.timezone.utc), resource_info={'file_size': '24293', 'last_modified_at': '2024-07-24T22:14:27'}, data_source_id=None))]"
      ]
     },
     "execution_count": null,
     "metadata": {},
     "output_type": "execute_result"
    }
   ],
   "source": [
    "extraction_results"
   ]
  },
  {
   "cell_type": "markdown",
   "id": "530cecf5-ed00-4851-a8ba-e8a8c31dfa7e",
   "metadata": {},
   "source": [
    "If you pre-specified the metadata schema through `ResumeMetadata`, then run the below code block. Otherwise if you're using LlamaExtract's schema inference, run the code that's commented out instead."
   ]
  },
  {
   "cell_type": "code",
   "execution_count": null,
   "id": "fd15ffb9-5a92-44d7-99c4-8e0ffaadafb8",
   "metadata": {},
   "outputs": [],
   "source": [
    "# Use this if you pre-specified the metadata schenma\n",
    "metadatas = [ResumeMetadata.parse_obj(r.data).dict() for r in extraction_results]\n",
    "\n",
    "# # Use this if you are using LlamaExtract's schema inference\n",
    "# # NOTE: Nested schemas do not work well for metadata filtering.\n",
    "# # If LlamaExtract inferred a nested schema, it is your responsibility to simplify and flatten it\n",
    "# # so we can easily attach to each document!\n",
    "# metadatas = [r.data for r in extract_results]"
   ]
  },
  {
   "cell_type": "code",
   "execution_count": null,
   "id": "4f5a2b6a-d058-40e9-a753-d7a82b85499b",
   "metadata": {},
   "outputs": [
    {
     "data": {
      "text/plain": [
       "{'years_of_experience': 10,\n",
       " 'highest_degree': \"Bachelor's\",\n",
       " 'professional_summary': 'Degreed accountant with more than 10 years of diversified accounting experience seeking accounting position at a well-established company in Houston.'}"
      ]
     },
     "execution_count": null,
     "metadata": {},
     "output_type": "execute_result"
    }
   ],
   "source": [
    "metadatas[1]"
   ]
  },
  {
   "cell_type": "markdown",
   "id": "eee251a3-33c6-4b5a-8337-61963ab4282c",
   "metadata": {},
   "source": [
    "### Load Documents\n",
    "\n",
    "We then load these documents (using LlamaParse), and attach the metadata dictionaries to each document."
   ]
  },
  {
   "cell_type": "code",
   "execution_count": null,
   "id": "09c87c5f-9ce5-4f2f-9bca-aeaa7d64fc92",
   "metadata": {},
   "outputs": [],
   "source": [
    "from llama_parse import LlamaParse\n",
    "\n",
    "parser = LlamaParse(result_type=\"text\")\n",
    "docs = parser.load_data(file_path=full_files)\n",
    "# attach metadata\n",
    "for metadata, doc in zip(metadatas, docs):\n",
    "    doc.metadata.update(metadata)"
   ]
  },
  {
   "cell_type": "markdown",
   "id": "78a4222e-7b9b-4221-ba75-92d8012aac9c",
   "metadata": {},
   "source": [
    "## Build Index and Run\n",
    "\n",
    "With these documents/metadata attached, we can now build a vector index and run it.\n",
    "\n",
    "Since we have metadata attached, we can optionally choose to directly specify metadata or [auto-infer it](https://docs.llamaindex.ai/en/stable/examples/vector_stores/pinecone_auto_retriever/) in order to get higher-precision retrieval."
   ]
  },
  {
   "cell_type": "code",
   "execution_count": null,
   "id": "da02b388-c6c2-4ea1-89df-4cd064986833",
   "metadata": {},
   "outputs": [],
   "source": [
    "from llama_index.core import VectorStoreIndex, Settings\n",
    "from llama_index.llms.openai import OpenAI\n",
    "from llama_index.embeddings.openai import OpenAIEmbedding\n",
    "\n",
    "\n",
    "llm = OpenAI(model=\"gpt-4o-mini\")\n",
    "embed_model = OpenAIEmbedding(model=\"text-embedding-3-small\")\n",
    "\n",
    "Settings.llm = llm\n",
    "Settings.embed_model = embed_model\n",
    "\n",
    "index = VectorStoreIndex(docs)"
   ]
  },
  {
   "cell_type": "code",
   "execution_count": null,
   "id": "5c1f6ef2-1de5-4123-abf8-c178fbc0f8dd",
   "metadata": {},
   "outputs": [],
   "source": [
    "from llama_index.core.vector_stores import MetadataFilters\n",
    "from llama_index.core.query_engine import RetrieverQueryEngine\n",
    "from typing import Optional\n",
    "\n",
    "\n",
    "def get_query_engine(filters: Optional[MetadataFilters] = None):\n",
    "    retriever = index.as_retriever(similarity_top_k=2, filters=filters)\n",
    "    query_engine = RetrieverQueryEngine.from_args(\n",
    "        retriever, response_mode=\"tree_summarize\"\n",
    "    )\n",
    "    return query_engine"
   ]
  },
  {
   "cell_type": "code",
   "execution_count": null,
   "id": "f0b72f17-5d13-4b75-8c31-b76971bc4ba2",
   "metadata": {},
   "outputs": [],
   "source": [
    "# Try querying with metadata filters\n",
    "filters = MetadataFilters.from_dicts(\n",
    "    [{\"key\": \"years_of_experience\", \"value\": 5, \"operator\": \">\"}]\n",
    ")\n",
    "query_engine = get_query_engine(filters=filters)\n",
    "response = query_engine.query(\n",
    "    \"What is the most recent job experience of the most senior candidate?\"\n",
    ")"
   ]
  },
  {
   "cell_type": "code",
   "execution_count": null,
   "id": "fabd3706-e92b-41a8-ac59-ea0820b573df",
   "metadata": {},
   "outputs": [
    {
     "name": "stdout",
     "output_type": "stream",
     "text": [
      "**** RESPONSE ****\n",
      "The most recent job experience of the most senior candidate is as an accountant, where they performed a variety of support duties related to the accounting function within a credit union. Their responsibilities included maintaining financial records, processing accounts payable, posting general ledger entries, reconciling accounts, and supervising two accounting clerks. They also prepared daily cash flow reports and ensured staff were adequately trained in their roles.\n",
      "**** METADATA ****\n",
      "years_of_experience: 10\n",
      "highest_degree: Bachelor's\n",
      "professional_summary: Degreed accountant with more than 10 years of diversified accounting experience seeking accounting position at a well-established company in Houston.\n",
      "\n",
      "         40hrs Perform a variety of support duties related to the accounting function within the credit union; assisting the accounting team in\n",
      "         maintaining the financial, statistical, and accounting records; Accounts Payable processing; posting general ledger entries; reconciling general\n",
      "         ledger accounts as assigned and miscellaneous filing/scanning of checks, invoices and branch daily work.\n",
      "         Prepare daily cash flow, examined, and analyzed accounting record, financial statements, ACH, wires, and other financial reports to assess\n",
      "         accuracy, completeness, and conformation to reporting and procedural standards.\n",
      "         Responsible and supervised two Accounting Clerks Staff, scheduling shifts, assigning responsibilities, answering questions, solving problems,\n",
      "         helping with complex transactions and sensitive member relations issues or concerns.\n",
      "         Articulate policies and procedures to members and department staff Maintains files, including filing of general ledger journal vouchers,\n",
      "         account payable documentation, and other miscellaneous fillings.\n",
      "         Print daily account payable checks and inserts checks and invoices into envelopes for mailing.\n",
      "         Verifies and posts details of business transactions, such as funds received and disbursed, and totals accounts, using calculator or computer.\n",
      "         Responsible for ensuring staff are adequately trained in all phases of their jobs; and informed regarding all credit union products and services\n",
      "         Effectively research, track, and resolve or properly refer accounting or documentation problems and discrepancies.\n",
      "         Maintains regular contact with other departments to obtain and convey information and/or to correct transactions.\n",
      "         Order cash from the Federal Reserve for the branches and ATMs in a timely manner.\n",
      "Financial Service Representative/ Back-up Supervisor , 01/2011 to 08/2013\n",
      "Company Name â€“ City\n",
      "         40hrs Provided customers with prompt, accurate, courteous and professional banking service.\n",
      "         Identified and referred sales opportunities to Relationship Bankers about products and services.\n",
      "         Utilized several mediums such as phone and emails to help customers.\n",
      "         Assisted customers with opening and closing of accounts.\n",
      "         Answered and resolved problems that are within my authority.\n",
      "         Accepted and processed loan applications and conduct loan interviews.\n",
      "         Assisted members with their financial transactions, involving paying and receiving cash and other negotiable instruments.\n",
      "         Maintained proper cash levels at the branch.\n",
      "         Responsible for cash shipments to and from main office to the branch.\n",
      "         Processed all commercial deposits, balanced vault daily.\n",
      "         Responsible for equipment maintenance; assisted staff with balancing problems.\n",
      "         Did random spot check with staff to ensure cash levels are within predetermined branch limits.\n",
      "Education\n",
      "Bachelor of Science Degree : Finance , May 2010\n",
      "University of Maryland - State\n",
      "Finance\n",
      "Skills\n",
      "Accounting, Accounting System, accounts payable, accruals, Articulate, ATM, banking, budget, Business Intelligence, calculator, cash flow,\n",
      "cashier, closing, Credit, documentation, equipment maintenance, filing, Finance, Financial, financial reports, financial statements, preparation of\n",
      "financial statements, fixed assets, funds, general ledger, general ledger accounts, ledger, mailing, Access, Excel, Microsoft Office, office,\n",
      "PowerPoint, Microsoft Word, Works, networks, PeopleSoft, policies, processes, coding, receiving, reconciling, Maintains files, reporting,\n",
      "research, sales, scanning, scheduling, phone, year-end\n"
     ]
    }
   ],
   "source": [
    "print(\"**** RESPONSE ****\")\n",
    "print(str(response))\n",
    "\n",
    "print(\"**** METADATA ****\")\n",
    "print(response.source_nodes[0].get_content(metadata_mode=\"all\"))"
   ]
  }
 ],
 "metadata": {
  "kernelspec": {
   "display_name": "llama_extract",
   "language": "python",
   "name": "llama_extract"
  },
  "language_info": {
   "codemirror_mode": {
    "name": "ipython",
    "version": 3
   },
   "file_extension": ".py",
   "mimetype": "text/x-python",
   "name": "python",
   "nbconvert_exporter": "python",
   "pygments_lexer": "ipython3"
  }
 },
 "nbformat": 4,
 "nbformat_minor": 5
}
